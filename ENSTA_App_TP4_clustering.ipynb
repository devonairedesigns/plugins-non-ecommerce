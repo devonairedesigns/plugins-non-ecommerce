{
  "nbformat": 4,
  "nbformat_minor": 0,
  "metadata": {
    "colab": {
      "provenance": [],
      "include_colab_link": true
    },
    "kernelspec": {
      "name": "python3",
      "display_name": "Python 3"
    }
  },
  "cells": [
    {
      "cell_type": "markdown",
      "metadata": {
        "id": "view-in-github",
        "colab_type": "text"
      },
      "source": [
        "<a href=\"https://colab.research.google.com/github/devonairedesigns/plugins-non-ecommerce/blob/main/ENSTA_App_TP4_clustering.ipynb\" target=\"_parent\"><img src=\"https://colab.research.google.com/assets/colab-badge.svg\" alt=\"Open In Colab\"/></a>"
      ]
    },
    {
      "metadata": {
        "id": "NXTL-6zGkK7M"
      },
      "cell_type": "markdown",
      "source": [
        "# Exercise session: clustering US market stocks\n",
        "\n",
        "Today's exercise session is about analysing trens in US stock markets.\n",
        "\n",
        "You are given a NumPy array movements of daily price movements from 2010 to 2015, where each row corresponds to a company, and each column corresponds to a trading day. This dataset was obtained from the Yahoo! Finance API.\n",
        "\n"
      ]
    },
    {
      "metadata": {
        "id": "ogSHCDackrs_"
      },
      "cell_type": "code",
      "source": [
        "%matplotlib inline\n",
        "from pylab import *"
      ],
      "execution_count": null,
      "outputs": []
    },
    {
      "metadata": {
        "id": "WfflbGphkwtH"
      },
      "cell_type": "code",
      "source": [
        "import numpy as np\n",
        "import os\n",
        "import random\n",
        "import matplotlib.pyplot as plt"
      ],
      "execution_count": null,
      "outputs": []
    },
    {
      "metadata": {
        "id": "xJK2HCbTky_s"
      },
      "cell_type": "markdown",
      "source": [
        "# Get the data\n",
        "\n",
        " *   Data are available from: https://blesaux.github.io/teaching/ENSTA\n",
        "\n",
        " *   Upload the.company-stock-movements-2010-2015-inclcsv file in your drive and then mount it from colab\n",
        "  "
      ]
    },
    {
      "metadata": {
        "id": "228D7Tofk-Kc"
      },
      "cell_type": "code",
      "source": [
        "USE_COLAB = True\n",
        "UPLOAD_OUTPUTS = False\n",
        "if USE_COLAB:\n",
        "    # mount the goole drive\n",
        "    from google.colab import drive\n",
        "    drive.mount('/content/drive', force_remount=True)\n",
        "    # download data on GoogleDrive\n",
        "    data_dir = \"/content/drive/My Drive/datasets/\"\n",
        "else:\n",
        "    data_dir = \"data/\""
      ],
      "execution_count": null,
      "outputs": []
    },
    {
      "metadata": {
        "id": "3KVYpkwF5cN2"
      },
      "cell_type": "markdown",
      "source": [
        "* Read data"
      ]
    },
    {
      "metadata": {
        "id": "RYpTXDTHlIqM"
      },
      "cell_type": "code",
      "source": [
        "import pandas as pd\n",
        "\n",
        "fn = 'company-stock-movements-2010-2015-incl.csv'\n",
        "stocks_df = pd.read_csv( os.path.join(data_dir, fn), index_col=0 )"
      ],
      "execution_count": null,
      "outputs": []
    },
    {
      "metadata": {
        "id": "paJOlDGY5gsn"
      },
      "cell_type": "markdown",
      "source": [
        "* Explore and understand data:\n",
        "  * How many companies? How many dates?\n",
        "  * What are the values?"
      ]
    },
    {
      "metadata": {
        "id": "ZYvv6GEGlru4"
      },
      "cell_type": "code",
      "source": [
        "\n"
      ],
      "execution_count": null,
      "outputs": []
    },
    {
      "metadata": {
        "id": "c5GXUVd_-ahx"
      },
      "cell_type": "markdown",
      "source": [
        "* Eplore and understand data:\n",
        "  * Show company profiles on a graph\n",
        "  * Are they similar? What are the min-max values?"
      ]
    },
    {
      "metadata": {
        "id": "XuzWb3b75XKK"
      },
      "cell_type": "code",
      "source": [
        "apple = stocks_df.loc[['Apple']]\n",
        "print(apple.shape)\n",
        "apple = apple.T\n",
        "\n",
        "#apple = stocks_df.iloc[0]\n",
        "#print(apple.shape)\n",
        "\n",
        "boeing = stocks_df.loc[['Boeing']]\n",
        "print(boeing.shape)\n",
        "boeing = boeing.T\n",
        "\n",
        "ax = plt.gca()\n",
        "apple.plot.line(ax=ax)\n",
        "boeing.plot.line(ax=ax)\n",
        "plt.show()"
      ],
      "execution_count": null,
      "outputs": []
    },
    {
      "metadata": {
        "id": "eeHetBKl-zB7"
      },
      "cell_type": "markdown",
      "source": [
        "# Cluster companies with similar profiles\n",
        "\n",
        "* use sklearn.cluster:\n",
        "https://scikit-learn.org/stable/modules/generated/sklearn.cluster.KMeans.html\n"
      ]
    },
    {
      "metadata": {
        "id": "K1dcAM7K-qtU"
      },
      "cell_type": "code",
      "source": [
        "companies = list(stocks_df.index) # get company names\n",
        "profiles = stocks_df.values # to array\n",
        "\n",
        "# Insert your clustering code here\n",
        "\n",
        "\n",
        "#df = pd.DataFrame({'labels': kmeans.labels_, 'companies': companies})\n",
        "#df.sort_values('labels')"
      ],
      "execution_count": null,
      "outputs": []
    },
    {
      "metadata": {
        "id": "q2VWsUU2JTVx"
      },
      "cell_type": "markdown",
      "source": [
        "# Cluster companies with similar profiles (again, with normalization)\n",
        "\n",
        "* Normalize profiles before:\n",
        "\n",
        "https://scikit-learn.org/stable/modules/classes.html#module-sklearn.preprocessing\n",
        "https://scikit-learn.org/stable/modules/generated/sklearn.preprocessing.Normalizer.html#sklearn.preprocessing.Normalizer\n",
        "\n",
        "* Cluster using k-means:\n",
        "\n",
        "https://scikit-learn.org/stable/modules/generated/sklearn.cluster.KMeans.html"
      ]
    },
    {
      "metadata": {
        "id": "hcCBrJmdBpQ_"
      },
      "cell_type": "code",
      "source": [
        "# start again to be sure to have a good init\n",
        "companies = list(stocks_df.index) # get company names\n",
        "profiles = stocks_df.values # to array\n",
        "\n",
        "# normalize\n",
        "# ..."
      ],
      "execution_count": null,
      "outputs": []
    },
    {
      "metadata": {
        "id": "MqXmKcL5BUa7"
      },
      "cell_type": "markdown",
      "source": [
        "* Display profiles (Apple / 0 and Boeing / 4, for example)"
      ]
    },
    {
      "metadata": {
        "id": "OD2c4Yc3AiTt"
      },
      "cell_type": "code",
      "source": [
        "plot(profiles[0,:])\n",
        "plot(profiles[4,:])\n",
        "plt.show()"
      ],
      "execution_count": null,
      "outputs": []
    },
    {
      "metadata": {
        "id": "_39pWv6GAnhb"
      },
      "cell_type": "code",
      "source": [
        "# clusterize\n",
        "\n",
        "# ...\n",
        "# ...\n",
        "\n",
        "#df = pd.DataFrame({'labels': kmeans.labels_, 'companies': companies})\n",
        "#df.sort_values('labels')\n"
      ],
      "execution_count": null,
      "outputs": []
    },
    {
      "metadata": {
        "id": "Koh2lycSJsOl"
      },
      "cell_type": "markdown",
      "source": [
        "# Clustering, in a pipeline\n",
        "\n",
        "* Same as before, but in a pipeline\n",
        "\n",
        "https://scikit-learn.org/stable/modules/generated/sklearn.pipeline.Pipeline.html\n",
        "\n",
        "-> Useful for cross-validation of a whole processing chain!"
      ]
    },
    {
      "metadata": {
        "id": "n-Mq8_ZxFMsA"
      },
      "cell_type": "code",
      "source": [],
      "execution_count": null,
      "outputs": []
    },
    {
      "metadata": {
        "id": "18RS0961Cc1r"
      },
      "cell_type": "markdown",
      "source": [
        "# Clustering using another algorithm\n",
        "\n",
        "* Try out another clustering algorithm, for example one of those seen during the course: Agglomerative CLustering, DBScan, Spectral clustering, etc...\n",
        "   * Motivate your choice!\n",
        "\n",
        "https://scikit-learn.org/stable/modules/clustering.html\n",
        "\n",
        "* Analyze\n",
        "  * How do they differ  from K-Means?\n",
        "  * What are the parameters?\n",
        "  * Do they produce the same clusters?"
      ]
    },
    {
      "metadata": {
        "id": "K4tb6R6WCatg"
      },
      "cell_type": "code",
      "source": [
        "# start again to be sure to have a good init\n",
        "companies = list(stocks_df.index) # get company names\n",
        "profiles = stocks_df.values # to array\n",
        "\n",
        "# normalize (same as before)\n",
        "# ...\n",
        "\n",
        "# clusterize\n",
        "#kluster = ...\n",
        "\n",
        "#df = pd.DataFrame({'labels': kluster.labels_, 'companies': companies})\n",
        "#df.sort_values('labels')"
      ],
      "execution_count": null,
      "outputs": []
    },
    {
      "metadata": {
        "id": "oKFag6gaFvfv"
      },
      "cell_type": "markdown",
      "source": [
        "# Code your clustering\n",
        "\n",
        "* Code K-means by yourself\n",
        "\n",
        "The algorithm is described here: https://en.wikipedia.org/wiki/K-means_clustering#Standard_algorithm\n"
      ]
    },
    {
      "metadata": {
        "id": "Paf6RODaGaJL"
      },
      "cell_type": "code",
      "source": [
        "# nb clusters\n",
        "n_clusters = 14\n",
        "\n",
        "# data samples = profiles\n",
        "#print(profiles.shape)\n",
        "#n_profiles = ...\n",
        "#dim = ...\n",
        "#print(n_profiles)\n",
        "\n",
        "# memberships\n",
        "#u = ...\n",
        "print(u.shape)\n",
        "\n",
        "# prototypes: initialized as true, random profiles (try otherwise)\n",
        "#p =\n",
        "\n",
        "from random import randrange\n",
        "\n",
        "for j in range(0,n_clusters):\n",
        "\n",
        "  #p[j,:] = ...\n",
        "\n",
        "#print(p)"
      ],
      "execution_count": null,
      "outputs": []
    },
    {
      "metadata": {
        "id": "rlqj7B_WGLes"
      },
      "cell_type": "code",
      "source": [
        "from numpy import linalg as LA\n",
        "\n",
        "max_iter= 10\n",
        "#dist= ...\n",
        "#previous_loss=np.Inf\n",
        "\n",
        "\n",
        "for k in range(0,max_iter):\n",
        "  # compute u according to data -> closest p\n",
        "  # compute distances between profiles and prototypes\n",
        "\n",
        "  # ...\n",
        "\n",
        "  # compute loss\n",
        "  #loss= ...\n",
        "  print('Iter #',k)\n",
        "  #print('loss = ',loss)\n",
        "  if(np.abs(previous_loss-loss) < 1e-3 ):\n",
        "    break;\n",
        "  previous_loss=loss\n",
        "\n",
        "  # get index of the closest prototype of each point (np.argmin...)\n",
        "\n",
        "  # ...\n",
        "\n",
        "  # update K-Means memberships\n",
        "\n",
        "  # ...\n",
        "\n",
        "  # re-compute p[i,:] according to new memberships\n",
        "\n",
        "  # ...\n",
        "\n",
        "\n",
        "\n",
        "\n",
        "\n",
        "\n",
        "\n",
        "labels = np.argmax(u, axis=1)\n",
        "print(labels)\n",
        "print(labels.shape)\n",
        "\n",
        "print('Final loss =',loss)\n",
        "\n"
      ],
      "execution_count": null,
      "outputs": []
    },
    {
      "metadata": {
        "id": "UUMivOtiIaCq"
      },
      "cell_type": "code",
      "source": [
        "df = pd.DataFrame({'labels': labels, 'companies': companies})\n",
        "df.sort_values('labels')"
      ],
      "execution_count": null,
      "outputs": []
    }
  ]
}